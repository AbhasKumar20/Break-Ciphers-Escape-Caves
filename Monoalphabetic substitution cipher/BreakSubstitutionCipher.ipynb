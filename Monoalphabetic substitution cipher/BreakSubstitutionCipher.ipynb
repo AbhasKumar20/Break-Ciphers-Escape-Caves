{
 "cells": [
  {
   "cell_type": "code",
   "execution_count": 90,
   "metadata": {},
   "outputs": [
    {
     "name": "stdout",
     "output_type": "stream",
     "text": [
      "324\n",
      "wsam ie pjo ysgtm eyipbya .p axg niphay y, mey syw ahgm ewhrg tw hmysyam wh meyiepjo ys .ag jygtmeyk pmys ie pjo ysavw kkoyjgsy whmy sy amwh rmephmewagh y!me yigu ynay utg mew ajya apr ywap awjfkya no a mwmnmw ghiwfeyswhve wieuwr wm aepby oyyhae wtmy uox8 fkpiya. me y fpaavgs uwa mxsrn03u wd dvwmegnmmey dngmya. mew awameyt\n",
      "c 0\n",
      "l 0\n",
      "q 0\n",
      "z 0\n",
      ", 1\n",
      "! 1\n",
      "8 1\n",
      "0 1\n",
      "3 1\n",
      "b 2\n",
      "d 3\n",
      "x 3\n",
      "f 4\n",
      "v 4\n",
      ". 4\n",
      "k 5\n",
      "r 5\n",
      "t 6\n",
      "u 6\n",
      "j 7\n",
      "n 7\n",
      "o 7\n",
      "i 9\n",
      "h 12\n",
      "s 12\n",
      "p 13\n",
      "g 14\n",
      "e 22\n",
      "w 25\n",
      "a 27\n",
      "m 28\n",
      "y 36\n",
      "  58\n"
     ]
    }
   ],
   "source": [
    "s=\"wsam ie pjo ysgtm eyipbya .P axg niphay y, mey syw ahgm ewhrg tw hmysyam wh meyiepjo ys .Ag jygtmeyk pmys ie pjo ysavw kkoyjgsy whmy sy amwh rmephmewagh y!Me yigu ynay utg mew ajya apr ywap awjfkya no a mwmnmw ghiwfeyswhve wieuwr wm aepby oyyhae wtmy uox8 fkpiya. Me y fpaavgs uwa mxSrN03u wd dvwmegnmmey dngmya. Mew awameyt\"\n",
    "x=\"abcdefghijklmnopqrstuvwxyz\"\n",
    "D={}\n",
    "for i in x:\n",
    "    s=s.replace(i.upper(),i)\n",
    "    D[i]=0\n",
    "    \n",
    "for i in s:\n",
    "    if i in D:\n",
    "        D[i]=D[i]+1\n",
    "    else:\n",
    "        D[i]=1\n",
    "\n",
    "\n",
    "D=dict(sorted(D.items(), key=lambda item: item[1]))\n",
    "sum=0   \n",
    "for i in D:\n",
    "    sum= sum+D[i]\n",
    "    \n",
    "print(sum)\n",
    "print(s)\n",
    "for i in D:\n",
    "    print(i, D[i])\n",
    "    "
   ]
  },
  {
   "cell_type": "code",
   "execution_count": 91,
   "metadata": {},
   "outputs": [
    {
     "name": "stdout",
     "output_type": "stream",
     "text": [
      "IRST CH AMB EROFT HECAVES .A SYO UCANSE E, THE REI SNOT HINGO FI NTEREST IN THECHAMB ER .SO MEOFTHEL ATER CH AMB ERSWI LLBEMORE INTE RE STIN GTHANTHISON E!TH ECOD EUSE DFO THI SMES SAG EISA SIMPLES UB S TITUTI ONCIPHERINWH ICHDIG IT SHAVE BEENSH IFTE DBY4 PLACES. TH E PASSWOR DIS TYRGU69D IQ QWITHOUTTHE QUOTES. THI SISTHEF\n"
     ]
    }
   ],
   "source": [
    "s=\"wsam ie pjo ysgtm eyipbya .P axg niphay y, mey syw ahgm ewhrg tw hmysyam wh meyiepjo ys .Ag jygtmeyk pmys ie pjo ysavw kkoyjgsy whmy sy amwh rmephmewagh y!Me yigu ynay utg mew ajya apr ywap awjfkya no a mwmnmw ghiwfeyswhve wieuwr wm aepby oyyhae wtmy uox8 fkpiya. Me y fpaavgs uwa mxSrN03u wd dvwmegnmmey dngmya. Mew awameyt\"\n",
    "\n",
    "D={}\n",
    "for i in s:\n",
    "    s=s.replace(i.upper(),i)\n",
    "\n",
    "for i in s:\n",
    "    D[i]=i\n",
    "\n",
    "D[\"y\"]=\"E\"\n",
    "D[\"m\"]=\"T\"\n",
    "D[\"e\"]=\"H\"\n",
    "D[\"a\"]=\"S\"\n",
    "D[\"w\"]=\"I\"\n",
    "D[\"h\"]=\"N\"\n",
    "D[\"s\"]=\"R\"\n",
    "D[\"r\"]=\"G\"\n",
    "D[\"p\"]=\"A\"\n",
    "D[\"g\"]=\"O\"\n",
    "D[\"j\"]=\"M\"\n",
    "D[\"t\"]=\"F\"\n",
    "D[\"i\"]=\"C\"\n",
    "D[\"b\"]=\"V\"\n",
    "D[\"o\"]=\"B\"\n",
    "D[\"k\"]=\"L\"\n",
    "D[\"v\"]=\"W\"\n",
    "D[\"f\"]=\"P\"\n",
    "D[\"n\"]=\"U\"\n",
    "D[\"x\"]=\"Y\"\n",
    "D[\"u\"]=\"D\"\n",
    "D[\"d\"]=\"Q\"\n",
    "D[\"8\"]=\"4\"\n",
    "D[\"0\"]=\"6\"\n",
    "D[\"3\"]=\"9\"\n",
    "p=\"\"\n",
    "for i in s:\n",
    "    if i in D:\n",
    "        p=p+D[i]\n",
    "    else:\n",
    "        p+i\n",
    "        \n",
    "print(p)\n",
    "    \n",
    "    "
   ]
  },
  {
   "cell_type": "code",
   "execution_count": null,
   "metadata": {},
   "outputs": [],
   "source": []
  },
  {
   "cell_type": "code",
   "execution_count": null,
   "metadata": {},
   "outputs": [],
   "source": []
  }
 ],
 "metadata": {
  "kernelspec": {
   "display_name": "Python 3",
   "language": "python",
   "name": "python3"
  },
  "language_info": {
   "codemirror_mode": {
    "name": "ipython",
    "version": 3
   },
   "file_extension": ".py",
   "mimetype": "text/x-python",
   "name": "python",
   "nbconvert_exporter": "python",
   "pygments_lexer": "ipython3",
   "version": "3.7.0"
  }
 },
 "nbformat": 4,
 "nbformat_minor": 4
}
